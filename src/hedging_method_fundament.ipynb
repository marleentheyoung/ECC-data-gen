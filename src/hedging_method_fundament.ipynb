{
 "cells": [
  {
   "cell_type": "markdown",
   "metadata": {},
   "source": [
    "# Hedging climate risk (inspired by Engle et al. (2020))"
   ]
  },
  {
   "cell_type": "markdown",
   "metadata": {},
   "source": [
    "## Table of Contents\n",
    "\n",
    "- [Overview](#overview)\n",
    "- [Installation](#installation)\n",
    "- [Usage](#usage)\n",
    "- [Results](#results)\n",
    "- [License](#license)\n",
    "\n",
    "<br>\n",
    "\n",
    "#### **Overview**\n",
    "This notebook first parses around 30.000 transcripts from firms' earnings calls published between 2009 and 2025. \n",
    "\n",
    "\n",
    "- It saves all relevant information in JSON files in the folder:\n",
    "``` console\n",
    "/Users/marleendejonge/Desktop/PhD/Projects/ECC transcripts/data/structured_jsons/BERT\n",
    "``` \n",
    "- Then, ClimateBERT is used to classify all climate-related paragraphs within the earning call's management section. All relevant data is then saved in:\n",
    "``` console\n",
    "/Users/marleendejonge/Desktop/PhD/Projects/ECC transcripts/data/climate_segments/BERT\n",
    "``` \n",
    "- Based on the identified climate-related passages, a ratio is calculated of the total discussion on climate-related passages to the total discussion. We visualize these ratios over time and over different firm locations.\n",
    "- Subsequently, we use these climate ratios as proxy for climate risk exposure and use it to replicate the hedging method from **Engle et al. (2020)**\n",
    "\n",
    "\n",
    "#### **Installation**\n",
    "`pip install -r requirements.txt`\n",
    "\n",
    "#### **Usage**\n",
    "To replicate full results use `run all`, to run specific part of the analyis run the cells below a specific header\n",
    "\n",
    "#### **Results (preliminary)**\n",
    "...\n",
    "\n",
    "#### **License**\n",
    "Marleen de Jonge @ University of Amsterdam"
   ]
  },
  {
   "cell_type": "code",
   "execution_count": 1,
   "metadata": {},
   "outputs": [],
   "source": [
    "root_code = \"/Users/marleendejonge/Library/CloudStorage/OneDrive-UvA/PhD/PhD planning/Papers/PaperI/ECC transcripts/ECC_climate_risk/code/\"\n",
    "root_data = \"/Users/marleendejonge/Library/CloudStorage/OneDrive-UvA/PhD/PhD planning/Papers/PaperI/ECC transcripts/ECC_climate_risk/data/\""
   ]
  },
  {
   "cell_type": "code",
   "execution_count": 2,
   "metadata": {},
   "outputs": [
    {
     "name": "stdout",
     "output_type": "stream",
     "text": [
      "🔹 Loading spaCy model...\n",
      "✅ spaCy model loaded successfully!\n"
     ]
    }
   ],
   "source": [
    "import os\n",
    "\n",
    "from preprocessing.load_transcripts import find_and_delete_duplicate_filenames, extract_transcripts\n",
    "from preprocessing.parse_data import structure_all_transcripts_from_parts\n",
    "from preprocessing.parser import process_all_pdfs_in_directory\n",
    "\n",
    "import re\n",
    "from datetime import datetime\n",
    "import pandas as pd\n",
    "from climate_variables.gen_climate_embeddings import generate_climate_embeddings\n",
    "from engle.Z_clim import clim_matrix\n",
    "from utils.lookup import get_climate_texts, load_climate_data_with_source, build_lookup"
   ]
  },
  {
   "cell_type": "markdown",
   "metadata": {},
   "source": [
    "### Preprocessing"
   ]
  },
  {
   "cell_type": "markdown",
   "metadata": {},
   "source": [
    "#### Choose either SP500 or STOXX600"
   ]
  },
  {
   "cell_type": "code",
   "execution_count": 3,
   "metadata": {},
   "outputs": [],
   "source": [
    "STOCK_INDEX = 'STOXX600'"
   ]
  },
  {
   "cell_type": "markdown",
   "metadata": {},
   "source": [
    "#### Check if duplicate files occur"
   ]
  },
  {
   "cell_type": "code",
   "execution_count": 4,
   "metadata": {},
   "outputs": [
    {
     "name": "stderr",
     "output_type": "stream",
     "text": [
      "Checking & deleting duplicates: 0folder [00:00, ?folder/s]"
     ]
    },
    {
     "name": "stdout",
     "output_type": "stream",
     "text": [
      "\n",
      "🗑️ Deleted 0 duplicate files (keeping one copy of each).\n",
      "✅ No duplicate filenames found.\n"
     ]
    },
    {
     "name": "stderr",
     "output_type": "stream",
     "text": [
      "\n"
     ]
    }
   ],
   "source": [
    "pdf_folder = root_data + f\"FactSet Transcripts/{STOCK_INDEX}\"\n",
    "\n",
    "duplicates = find_and_delete_duplicate_filenames(pdf_folder, delete=True)\n",
    "\n",
    "if duplicates:\n",
    "    print(f\"Found {len(duplicates)} duplicate filenames:\")\n",
    "    for d in duplicates:\n",
    "        print(\" -\", d)\n",
    "else:\n",
    "    print(\"✅ No duplicate filenames found.\")"
   ]
  },
  {
   "cell_type": "markdown",
   "metadata": {},
   "source": [
    "#### Extract text from PDFs and save to JSON files"
   ]
  },
  {
   "cell_type": "markdown",
   "metadata": {},
   "source": [
    "_This takes about 13 minutes._\n",
    "\n",
    "**Input**: the folders containing all the transcript pdfs. <br>\n",
    "**Output**: one json file per folder saving the filename and separated management and Q&A section"
   ]
  },
  {
   "cell_type": "code",
   "execution_count": null,
   "metadata": {},
   "outputs": [],
   "source": [
    "output_file_base = root_data + f\"raw_data_jsons/{STOCK_INDEX}/transcripts_data\"\n",
    "\n",
    "extract_transcripts(\n",
    "    pdf_root_folder=pdf_folder,\n",
    "    output_basename=output_file_base,\n",
    "    num_parts=15\n",
    ")"
   ]
  },
  {
   "cell_type": "markdown",
   "metadata": {},
   "source": [
    "_This takes about 60 minutes._\n",
    "\n",
    "**Input**: the raw data jsons from [this folder](../../ECC%20transcripts/data/raw_data_jsons) <br>\n",
    "**Output**: 15 equally sized structured jsons located [here](../../ECC%20transcripts/data/structured_jsons/BERT) where metadata of the call is saved and the tekst is split into paragraphs _"
   ]
  },
  {
   "cell_type": "code",
   "execution_count": null,
   "metadata": {},
   "outputs": [],
   "source": [
    "input_folder = root_data+f\"raw_data_jsons/{STOCK_INDEX}\"  # Folder with all the transcript_data_part*.json files\n",
    "output_folder = root_data+f\"structured_jsons/BERT/{STOCK_INDEX}\"\n",
    "\n",
    "structure_all_transcripts_from_parts(\n",
    "    input_folder=input_folder,\n",
    "    output_folder=output_folder\n",
    ")"
   ]
  },
  {
   "cell_type": "markdown",
   "metadata": {},
   "source": [
    "### Go to run_all.py"
   ]
  },
  {
   "cell_type": "markdown",
   "metadata": {},
   "source": [
    "After finishing the climate passage identification, run the cells below"
   ]
  },
  {
   "cell_type": "code",
   "execution_count": null,
   "metadata": {},
   "outputs": [],
   "source": [
    "process_all_pdfs_in_directory(f'{root_data}structured_jsons/BERT/{STOCK_INDEX}', f'{root_data}FactSet Transcripts/{STOCK_INDEX}', index='STOXX600')"
   ]
  },
  {
   "cell_type": "code",
   "execution_count": null,
   "metadata": {},
   "outputs": [],
   "source": [
    "process_all_pdfs_in_directory(f'{root_data}climate_segments/BERT/{STOCK_INDEX}', f'{root_data}FactSet Transcripts/{STOCK_INDEX}', index='STOXX600')"
   ]
  },
  {
   "cell_type": "markdown",
   "metadata": {},
   "source": [
    "## Ratio-based climate risk"
   ]
  },
  {
   "cell_type": "markdown",
   "metadata": {},
   "source": [
    "### Classifying climate-related passages with ClimateBERT"
   ]
  },
  {
   "cell_type": "code",
   "execution_count": 5,
   "metadata": {},
   "outputs": [],
   "source": [
    "import os\n",
    "\n",
    "from climate_variables.climate_ratio_calculator import compute_climate_sentence_ratio\n",
    "\n",
    "import pandas as pd\n",
    "\n",
    "root_code = \"/Users/marleendejonge/Library/CloudStorage/OneDrive-UvA/PhD/PhD planning/Papers/PaperI/ECC transcripts/ECC_climate_risk/code/\"\n",
    "root_data = \"/Users/marleendejonge/Library/CloudStorage/OneDrive-UvA/PhD/PhD planning/Papers/PaperI/ECC transcripts/ECC_climate_risk/data/\""
   ]
  },
  {
   "cell_type": "markdown",
   "metadata": {},
   "source": [
    "To identify climate-related passages with ClimateBERT, first split the JSONs that need to be processed over [terminal 1](../../ECC%20transcripts/data/structured_jsons/BERT/terminal_1/) and [terminal 2](../../ECC%20transcripts/data/structured_jsons/BERT/terminal_2/)\n",
    "\n",
    "Then, open the terminal and run:\n",
    "```console\n",
    "(ECC) marleendejonge@Marleens-MacBook-Pro ECC transcripts % python scripts/run_all.py\n",
    "```"
   ]
  },
  {
   "cell_type": "markdown",
   "metadata": {},
   "source": [
    "### Calculate ratios of climate-related discussion"
   ]
  },
  {
   "cell_type": "markdown",
   "metadata": {},
   "source": [
    "#### Load"
   ]
  },
  {
   "cell_type": "code",
   "execution_count": 12,
   "metadata": {},
   "outputs": [],
   "source": [
    "df_ratio = pd.read_csv(f\"{root_data}clim_metrics/ratio/BERT/climate_sentence_ratio_output-0.csv\")"
   ]
  },
  {
   "cell_type": "markdown",
   "metadata": {},
   "source": [
    "#### Or calculate"
   ]
  },
  {
   "cell_type": "code",
   "execution_count": 3,
   "metadata": {},
   "outputs": [
    {
     "name": "stdout",
     "output_type": "stream",
     "text": [
      "Processing index: SP500\n"
     ]
    },
    {
     "name": "stderr",
     "output_type": "stream",
     "text": [
      "  0%|          | 0/19 [00:00<?, ?it/s]"
     ]
    },
    {
     "name": "stderr",
     "output_type": "stream",
     "text": [
      "100%|██████████| 19/19 [01:03<00:00,  3.32s/it]\n"
     ]
    },
    {
     "name": "stdout",
     "output_type": "stream",
     "text": [
      "Processing index: STOXX600\n"
     ]
    },
    {
     "name": "stderr",
     "output_type": "stream",
     "text": [
      "100%|██████████| 15/15 [00:31<00:00,  2.13s/it]\n"
     ]
    }
   ],
   "source": [
    "df_ratio = compute_climate_sentence_ratio(root_data, model_name=\"BERT\", indices=['SP500', 'STOXX600'])"
   ]
  },
  {
   "cell_type": "markdown",
   "metadata": {},
   "source": [
    "#### Check if the ratios make sense"
   ]
  },
  {
   "cell_type": "code",
   "execution_count": 13,
   "metadata": {},
   "outputs": [
    {
     "data": {
      "text/html": [
       "<div>\n",
       "<style scoped>\n",
       "    .dataframe tbody tr th:only-of-type {\n",
       "        vertical-align: middle;\n",
       "    }\n",
       "\n",
       "    .dataframe tbody tr th {\n",
       "        vertical-align: top;\n",
       "    }\n",
       "\n",
       "    .dataframe thead th {\n",
       "        text-align: right;\n",
       "    }\n",
       "</style>\n",
       "<table border=\"1\" class=\"dataframe\">\n",
       "  <thead>\n",
       "    <tr style=\"text-align: right;\">\n",
       "      <th></th>\n",
       "      <th>file</th>\n",
       "      <th>name</th>\n",
       "      <th>climate_sentence_count</th>\n",
       "      <th>management_sentence_count</th>\n",
       "      <th>ratio</th>\n",
       "      <th>year</th>\n",
       "      <th>quarter</th>\n",
       "      <th>ticker</th>\n",
       "      <th>date</th>\n",
       "      <th>climate_json_file</th>\n",
       "      <th>structured_json_file</th>\n",
       "    </tr>\n",
       "  </thead>\n",
       "  <tbody>\n",
       "    <tr>\n",
       "      <th>0</th>\n",
       "      <td>CORRECTED TRANSCRIPT The Home Depot IncHDUS Q1...</td>\n",
       "      <td>The Home Depot, Inc.  (HD)</td>\n",
       "      <td>22</td>\n",
       "      <td>142</td>\n",
       "      <td>0.154930</td>\n",
       "      <td>2015.0</td>\n",
       "      <td>Q1</td>\n",
       "      <td>HD</td>\n",
       "      <td>2015-05-19</td>\n",
       "      <td>climate_segments_16.json</td>\n",
       "      <td>structured_calls_16_d.json</td>\n",
       "    </tr>\n",
       "    <tr>\n",
       "      <th>1</th>\n",
       "      <td>CORRECTED TRANSCRIPT Paychex IncPAYXUS Q3 2010...</td>\n",
       "      <td>Paychex, Inc.</td>\n",
       "      <td>0</td>\n",
       "      <td>171</td>\n",
       "      <td>0.000000</td>\n",
       "      <td>2010.0</td>\n",
       "      <td>Q3</td>\n",
       "      <td>PAYX</td>\n",
       "      <td>2010-03-26</td>\n",
       "      <td>climate_segments_1.json</td>\n",
       "      <td>structured_calls_1_d.json</td>\n",
       "    </tr>\n",
       "    <tr>\n",
       "      <th>2</th>\n",
       "      <td>CORRECTED TRANSCRIPT Fair Isaac CorpFICOUS Q1 ...</td>\n",
       "      <td>Fair Isaac Corp.</td>\n",
       "      <td>0</td>\n",
       "      <td>165</td>\n",
       "      <td>0.000000</td>\n",
       "      <td>2010.0</td>\n",
       "      <td>Q1</td>\n",
       "      <td>FICO</td>\n",
       "      <td>2010-01-27</td>\n",
       "      <td>climate_segments_1.json</td>\n",
       "      <td>structured_calls_1_d.json</td>\n",
       "    </tr>\n",
       "    <tr>\n",
       "      <th>3</th>\n",
       "      <td>CORRECTED TRANSCRIPT Fifth Third BancorpFITBUS...</td>\n",
       "      <td>Fifth Third Bancorp (FITB)</td>\n",
       "      <td>0</td>\n",
       "      <td>311</td>\n",
       "      <td>0.000000</td>\n",
       "      <td>2011.0</td>\n",
       "      <td>Q2</td>\n",
       "      <td>FITB</td>\n",
       "      <td>2011-07-21</td>\n",
       "      <td>climate_segments_1.json</td>\n",
       "      <td>structured_calls_1_d.json</td>\n",
       "    </tr>\n",
       "    <tr>\n",
       "      <th>4</th>\n",
       "      <td>CORRECTED TRANSCRIPT Norfolk Southern CorpNSCU...</td>\n",
       "      <td>Norfolk Southern Corp.</td>\n",
       "      <td>45</td>\n",
       "      <td>187</td>\n",
       "      <td>0.240642</td>\n",
       "      <td>2010.0</td>\n",
       "      <td>Q3</td>\n",
       "      <td>NSC</td>\n",
       "      <td>2010-10-27</td>\n",
       "      <td>climate_segments_1.json</td>\n",
       "      <td>structured_calls_1_d.json</td>\n",
       "    </tr>\n",
       "  </tbody>\n",
       "</table>\n",
       "</div>"
      ],
      "text/plain": [
       "                                                file  \\\n",
       "0  CORRECTED TRANSCRIPT The Home Depot IncHDUS Q1...   \n",
       "1  CORRECTED TRANSCRIPT Paychex IncPAYXUS Q3 2010...   \n",
       "2  CORRECTED TRANSCRIPT Fair Isaac CorpFICOUS Q1 ...   \n",
       "3  CORRECTED TRANSCRIPT Fifth Third BancorpFITBUS...   \n",
       "4  CORRECTED TRANSCRIPT Norfolk Southern CorpNSCU...   \n",
       "\n",
       "                          name  climate_sentence_count  \\\n",
       "0  The Home Depot, Inc.  (HD)                       22   \n",
       "1                Paychex, Inc.                       0   \n",
       "2             Fair Isaac Corp.                       0   \n",
       "3  Fifth Third Bancorp (FITB)                        0   \n",
       "4       Norfolk Southern Corp.                      45   \n",
       "\n",
       "   management_sentence_count     ratio    year quarter ticker        date  \\\n",
       "0                        142  0.154930  2015.0      Q1     HD  2015-05-19   \n",
       "1                        171  0.000000  2010.0      Q3   PAYX  2010-03-26   \n",
       "2                        165  0.000000  2010.0      Q1   FICO  2010-01-27   \n",
       "3                        311  0.000000  2011.0      Q2   FITB  2011-07-21   \n",
       "4                        187  0.240642  2010.0      Q3    NSC  2010-10-27   \n",
       "\n",
       "          climate_json_file        structured_json_file  \n",
       "0  climate_segments_16.json  structured_calls_16_d.json  \n",
       "1   climate_segments_1.json   structured_calls_1_d.json  \n",
       "2   climate_segments_1.json   structured_calls_1_d.json  \n",
       "3   climate_segments_1.json   structured_calls_1_d.json  \n",
       "4   climate_segments_1.json   structured_calls_1_d.json  "
      ]
     },
     "execution_count": 13,
     "metadata": {},
     "output_type": "execute_result"
    }
   ],
   "source": [
    "df_ratio.head()"
   ]
  },
  {
   "cell_type": "markdown",
   "metadata": {},
   "source": [
    "9940 over 29440 have a ratio of 0 (33%)"
   ]
  },
  {
   "cell_type": "code",
   "execution_count": 36,
   "metadata": {},
   "outputs": [
    {
     "data": {
      "text/html": [
       "<div>\n",
       "<style scoped>\n",
       "    .dataframe tbody tr th:only-of-type {\n",
       "        vertical-align: middle;\n",
       "    }\n",
       "\n",
       "    .dataframe tbody tr th {\n",
       "        vertical-align: top;\n",
       "    }\n",
       "\n",
       "    .dataframe thead th {\n",
       "        text-align: right;\n",
       "    }\n",
       "</style>\n",
       "<table border=\"1\" class=\"dataframe\">\n",
       "  <thead>\n",
       "    <tr style=\"text-align: right;\">\n",
       "      <th></th>\n",
       "      <th>file</th>\n",
       "      <th>name</th>\n",
       "      <th>climate_sentence_count</th>\n",
       "      <th>management_sentence_count</th>\n",
       "      <th>ratio</th>\n",
       "      <th>year</th>\n",
       "      <th>quarter</th>\n",
       "      <th>ticker</th>\n",
       "      <th>date</th>\n",
       "      <th>climate_json_file</th>\n",
       "      <th>structured_json_file</th>\n",
       "    </tr>\n",
       "  </thead>\n",
       "  <tbody>\n",
       "    <tr>\n",
       "      <th>1883</th>\n",
       "      <td>CORRECTED TRANSCRIPT Agilent Technologies IncA...</td>\n",
       "      <td>Agilent Technologies, Inc.  (A)</td>\n",
       "      <td>22</td>\n",
       "      <td>178</td>\n",
       "      <td>0.123596</td>\n",
       "      <td>2016</td>\n",
       "      <td>Q4</td>\n",
       "      <td>A</td>\n",
       "      <td>2016-11-15</td>\n",
       "      <td>climate_segments_17.json</td>\n",
       "      <td>structured_calls_17_d.json</td>\n",
       "    </tr>\n",
       "    <tr>\n",
       "      <th>1948</th>\n",
       "      <td>CORRECTED TRANSCRIPT Agilent Technologies IncA...</td>\n",
       "      <td>Agilent Technologies, Inc.  (A)</td>\n",
       "      <td>16</td>\n",
       "      <td>150</td>\n",
       "      <td>0.106667</td>\n",
       "      <td>2014</td>\n",
       "      <td>Q3</td>\n",
       "      <td>A</td>\n",
       "      <td>2014-08-14</td>\n",
       "      <td>climate_segments_17.json</td>\n",
       "      <td>structured_calls_17_d.json</td>\n",
       "    </tr>\n",
       "    <tr>\n",
       "      <th>1976</th>\n",
       "      <td>CORRECTED TRANSCRIPT Agilent Technologies IncA...</td>\n",
       "      <td>Agilent Technologies, Inc.  (A)</td>\n",
       "      <td>7</td>\n",
       "      <td>179</td>\n",
       "      <td>0.039106</td>\n",
       "      <td>2017</td>\n",
       "      <td>Q4</td>\n",
       "      <td>A</td>\n",
       "      <td>2017-11-20</td>\n",
       "      <td>climate_segments_17.json</td>\n",
       "      <td>structured_calls_17_d.json</td>\n",
       "    </tr>\n",
       "    <tr>\n",
       "      <th>2007</th>\n",
       "      <td>CORRECTED TRANSCRIPT Agilent Technologies IncA...</td>\n",
       "      <td>Agilent Technologies, Inc.</td>\n",
       "      <td>7</td>\n",
       "      <td>171</td>\n",
       "      <td>0.040936</td>\n",
       "      <td>2010</td>\n",
       "      <td>Q2</td>\n",
       "      <td>A</td>\n",
       "      <td>2010-05-17</td>\n",
       "      <td>climate_segments_17.json</td>\n",
       "      <td>structured_calls_17_d.json</td>\n",
       "    </tr>\n",
       "    <tr>\n",
       "      <th>2046</th>\n",
       "      <td>CORRECTED TRANSCRIPT Agilent Technologies IncA...</td>\n",
       "      <td>Agilent Technologies, Inc.  (A)</td>\n",
       "      <td>16</td>\n",
       "      <td>108</td>\n",
       "      <td>0.148148</td>\n",
       "      <td>2015</td>\n",
       "      <td>Q3</td>\n",
       "      <td>A</td>\n",
       "      <td>2015-08-17</td>\n",
       "      <td>climate_segments_17.json</td>\n",
       "      <td>structured_calls_17_d.json</td>\n",
       "    </tr>\n",
       "    <tr>\n",
       "      <th>...</th>\n",
       "      <td>...</td>\n",
       "      <td>...</td>\n",
       "      <td>...</td>\n",
       "      <td>...</td>\n",
       "      <td>...</td>\n",
       "      <td>...</td>\n",
       "      <td>...</td>\n",
       "      <td>...</td>\n",
       "      <td>...</td>\n",
       "      <td>...</td>\n",
       "      <td>...</td>\n",
       "    </tr>\n",
       "    <tr>\n",
       "      <th>25652</th>\n",
       "      <td>CORRECTED TRANSCRIPT Agilent Technologies IncA...</td>\n",
       "      <td>Agilent Technologies, Inc.  (A)</td>\n",
       "      <td>15</td>\n",
       "      <td>131</td>\n",
       "      <td>0.114504</td>\n",
       "      <td>2016</td>\n",
       "      <td>Q1</td>\n",
       "      <td>A</td>\n",
       "      <td>2016-02-16</td>\n",
       "      <td>climate_segments_18.json</td>\n",
       "      <td>structured_calls_18_d.json</td>\n",
       "    </tr>\n",
       "    <tr>\n",
       "      <th>25709</th>\n",
       "      <td>CORRECTED TRANSCRIPT Agilent Technologies IncA...</td>\n",
       "      <td>Agilent Technologies, Inc.  (A)</td>\n",
       "      <td>25</td>\n",
       "      <td>137</td>\n",
       "      <td>0.182482</td>\n",
       "      <td>2014</td>\n",
       "      <td>Q2</td>\n",
       "      <td>A</td>\n",
       "      <td>2014-05-14</td>\n",
       "      <td>climate_segments_18.json</td>\n",
       "      <td>structured_calls_18_d.json</td>\n",
       "    </tr>\n",
       "    <tr>\n",
       "      <th>27758</th>\n",
       "      <td>CORRECTED TRANSCRIPT Agilent Technologies IncA...</td>\n",
       "      <td>Agilent Technologies, Inc.  (A)</td>\n",
       "      <td>11</td>\n",
       "      <td>181</td>\n",
       "      <td>0.060773</td>\n",
       "      <td>2021</td>\n",
       "      <td>Q4</td>\n",
       "      <td>A</td>\n",
       "      <td>2021-11-23</td>\n",
       "      <td>climate_segments_15.json</td>\n",
       "      <td>structured_calls_15_d.json</td>\n",
       "    </tr>\n",
       "    <tr>\n",
       "      <th>28059</th>\n",
       "      <td>CORRECTED TRANSCRIPT Agilent Technologies IncA...</td>\n",
       "      <td>Agilent Technologies, Inc.  (A)</td>\n",
       "      <td>12</td>\n",
       "      <td>179</td>\n",
       "      <td>0.067039</td>\n",
       "      <td>2021</td>\n",
       "      <td>Q2</td>\n",
       "      <td>A</td>\n",
       "      <td>2021-05-25</td>\n",
       "      <td>climate_segments_15.json</td>\n",
       "      <td>structured_calls_15_d.json</td>\n",
       "    </tr>\n",
       "    <tr>\n",
       "      <th>29379</th>\n",
       "      <td>CORRECTED TRANSCRIPT Agilent Technologies IncA...</td>\n",
       "      <td>Agilent Technologies, Inc.  (A)</td>\n",
       "      <td>18</td>\n",
       "      <td>145</td>\n",
       "      <td>0.124138</td>\n",
       "      <td>2015</td>\n",
       "      <td>Q2</td>\n",
       "      <td>A</td>\n",
       "      <td>2015-05-19</td>\n",
       "      <td>climate_segments_15.json</td>\n",
       "      <td>structured_calls_15_d.json</td>\n",
       "    </tr>\n",
       "  </tbody>\n",
       "</table>\n",
       "<p>64 rows × 11 columns</p>\n",
       "</div>"
      ],
      "text/plain": [
       "                                                    file  \\\n",
       "1883   CORRECTED TRANSCRIPT Agilent Technologies IncA...   \n",
       "1948   CORRECTED TRANSCRIPT Agilent Technologies IncA...   \n",
       "1976   CORRECTED TRANSCRIPT Agilent Technologies IncA...   \n",
       "2007   CORRECTED TRANSCRIPT Agilent Technologies IncA...   \n",
       "2046   CORRECTED TRANSCRIPT Agilent Technologies IncA...   \n",
       "...                                                  ...   \n",
       "25652  CORRECTED TRANSCRIPT Agilent Technologies IncA...   \n",
       "25709  CORRECTED TRANSCRIPT Agilent Technologies IncA...   \n",
       "27758  CORRECTED TRANSCRIPT Agilent Technologies IncA...   \n",
       "28059  CORRECTED TRANSCRIPT Agilent Technologies IncA...   \n",
       "29379  CORRECTED TRANSCRIPT Agilent Technologies IncA...   \n",
       "\n",
       "                                   name  climate_sentence_count  \\\n",
       "1883   Agilent Technologies, Inc.  (A)                       22   \n",
       "1948   Agilent Technologies, Inc.  (A)                       16   \n",
       "1976   Agilent Technologies, Inc.  (A)                        7   \n",
       "2007         Agilent Technologies, Inc.                       7   \n",
       "2046   Agilent Technologies, Inc.  (A)                       16   \n",
       "...                                 ...                     ...   \n",
       "25652  Agilent Technologies, Inc.  (A)                       15   \n",
       "25709  Agilent Technologies, Inc.  (A)                       25   \n",
       "27758  Agilent Technologies, Inc.  (A)                       11   \n",
       "28059  Agilent Technologies, Inc.  (A)                       12   \n",
       "29379  Agilent Technologies, Inc.  (A)                       18   \n",
       "\n",
       "       management_sentence_count     ratio  year quarter ticker       date  \\\n",
       "1883                         178  0.123596  2016      Q4      A 2016-11-15   \n",
       "1948                         150  0.106667  2014      Q3      A 2014-08-14   \n",
       "1976                         179  0.039106  2017      Q4      A 2017-11-20   \n",
       "2007                         171  0.040936  2010      Q2      A 2010-05-17   \n",
       "2046                         108  0.148148  2015      Q3      A 2015-08-17   \n",
       "...                          ...       ...   ...     ...    ...        ...   \n",
       "25652                        131  0.114504  2016      Q1      A 2016-02-16   \n",
       "25709                        137  0.182482  2014      Q2      A 2014-05-14   \n",
       "27758                        181  0.060773  2021      Q4      A 2021-11-23   \n",
       "28059                        179  0.067039  2021      Q2      A 2021-05-25   \n",
       "29379                        145  0.124138  2015      Q2      A 2015-05-19   \n",
       "\n",
       "              climate_json_file        structured_json_file  \n",
       "1883   climate_segments_17.json  structured_calls_17_d.json  \n",
       "1948   climate_segments_17.json  structured_calls_17_d.json  \n",
       "1976   climate_segments_17.json  structured_calls_17_d.json  \n",
       "2007   climate_segments_17.json  structured_calls_17_d.json  \n",
       "2046   climate_segments_17.json  structured_calls_17_d.json  \n",
       "...                         ...                         ...  \n",
       "25652  climate_segments_18.json  structured_calls_18_d.json  \n",
       "25709  climate_segments_18.json  structured_calls_18_d.json  \n",
       "27758  climate_segments_15.json  structured_calls_15_d.json  \n",
       "28059  climate_segments_15.json  structured_calls_15_d.json  \n",
       "29379  climate_segments_15.json  structured_calls_15_d.json  \n",
       "\n",
       "[64 rows x 11 columns]"
      ]
     },
     "execution_count": 36,
     "metadata": {},
     "output_type": "execute_result"
    }
   ],
   "source": [
    "df_ratio.loc[df_ratio.ticker == 'A']"
   ]
  },
  {
   "cell_type": "code",
   "execution_count": 15,
   "metadata": {},
   "outputs": [],
   "source": [
    "df_ratio.date = pd.to_datetime(df_ratio.date)"
   ]
  },
  {
   "cell_type": "markdown",
   "metadata": {},
   "source": [
    "##### Some statistics..."
   ]
  },
  {
   "cell_type": "code",
   "execution_count": 16,
   "metadata": {},
   "outputs": [],
   "source": [
    "df_ratio['year'] = df_ratio.date.dt.year"
   ]
  },
  {
   "cell_type": "code",
   "execution_count": 17,
   "metadata": {},
   "outputs": [
    {
     "name": "stdout",
     "output_type": "stream",
     "text": [
      "Number of unique years: 17 \n",
      "\n",
      "Years covered: [2009, 2010, 2011, 2012, 2013, 2014, 2015, 2016, 2017, 2018, 2019, 2020, 2021, 2022, 2023, 2024, 2025] \n",
      "\n",
      "Number of unique tickers: 581 \n",
      "\n",
      "Tickers observed per year:\n",
      "year\n",
      "2009    110\n",
      "2010    435\n",
      "2011    443\n",
      "2012    452\n",
      "2013    463\n",
      "2014    474\n",
      "2015    475\n",
      "2016    476\n",
      "2017    488\n",
      "2018    482\n",
      "2019    487\n",
      "2020    489\n",
      "2021    490\n",
      "2022    493\n",
      "2023    496\n",
      "2024    487\n",
      "2025    152\n",
      "Name: ticker, dtype: int64 \n",
      "\n"
     ]
    }
   ],
   "source": [
    "num_years = df_ratio['year'].nunique()\n",
    "print(\"Number of unique years:\", num_years, \"\\n\")\n",
    "\n",
    "print(\"Years covered:\", sorted(df_ratio.date.dt.year.unique()), \"\\n\")\n",
    "\n",
    "num_tickers = df_ratio['ticker'].nunique()\n",
    "print(\"Number of unique tickers:\", num_tickers, \"\\n\")\n",
    "\n",
    "tickers_per_year = df_ratio.groupby('year')['ticker'].nunique()\n",
    "print(\"Tickers observed per year:\")\n",
    "print(tickers_per_year, \"\\n\")"
   ]
  },
  {
   "cell_type": "markdown",
   "metadata": {},
   "source": [
    "### Visualize exposures"
   ]
  },
  {
   "cell_type": "code",
   "execution_count": 18,
   "metadata": {},
   "outputs": [],
   "source": [
    "from utils.ratio_explorer import plot_climate_ratio_over_time"
   ]
  },
  {
   "cell_type": "markdown",
   "metadata": {},
   "source": [
    "#### Show time series"
   ]
  },
  {
   "cell_type": "code",
   "execution_count": 19,
   "metadata": {},
   "outputs": [
    {
     "data": {
      "image/png": "[encoded data removed]",
      "text/plain": [
       "<Figure size 1200x600 with 1 Axes>"
      ]
     },
     "metadata": {},
     "output_type": "display_data"
    }
   ],
   "source": [
    "csv_path = root_data+\"clim_metrics/ratio/BERT/climate_sentence_ratio_output_full.csv\"\n",
    "plot_climate_ratio_over_time(csv_path, window=9, years=[2010,2024], title=\"Mean Climate Topic Exposure per Quarter\")"
   ]
  },
  {
   "cell_type": "markdown",
   "metadata": {},
   "source": [
    "#### Show exposures by location"
   ]
  },
  {
   "cell_type": "code",
   "execution_count": 20,
   "metadata": {},
   "outputs": [
    {
     "name": "stdout",
     "output_type": "stream",
     "text": [
      "✅ Map saved to /Users/marleendejonge/Library/CloudStorage/OneDrive-UvA/PhD/PhD planning/Papers/PaperI/ECC transcripts/ECC_climate_risk/data/climate_exposure_map.html. Open this file in your browser to view.\n"
     ]
    }
   ],
   "source": [
    "from utils.geographical_risk import show_firm_map_with_ratios\n",
    "\n",
    "m = show_firm_map_with_ratios(root_path=root_data)"
   ]
  },
  {
   "cell_type": "markdown",
   "metadata": {},
   "source": [
    "## Obtain climate exposure scores"
   ]
  },
  {
   "cell_type": "code",
   "execution_count": 4,
   "metadata": {},
   "outputs": [
    {
     "name": "stdout",
     "output_type": "stream",
     "text": [
      "📥 Loading CSV ...\n",
      "📊 Rank-normalizing factors within each month...\n",
      "📊 Demeaning (absolute) factors within each month (reversed)...\n",
      "✅ Saved projected factors to /Users/marleendejonge/Library/CloudStorage/OneDrive-UvA/PhD/PhD planning/Papers/PaperI/ECC transcripts/ECC_climate_risk/data/clim_metrics/Z_clim.csv\n"
     ]
    }
   ],
   "source": [
    "from engle.Z_clim import clim_matrix\n",
    "\n",
    "root = \"/Users/marleendejonge/Desktop/PhD/Projects/ECC transcripts/\"\n",
    "\n",
    "weights = clim_matrix(mask_zeros=False, save=True)"
   ]
  },
  {
   "cell_type": "code",
   "execution_count": 5,
   "metadata": {},
   "outputs": [],
   "source": [
    "import numpy as np\n",
    "\n",
    "false_tickers = ['05VHQ2 -E', '080LKF -E', '08XM5M -E', '0CV4BY-E', '0GPW6G -E', np.nan]\n",
    "weights = weights.loc[~weights.ISSUER_TICKER.isin(false_tickers)]\n",
    "\n",
    "weights['COUNTRY'] = weights['ISSUER_TICKER'].str[-2:]\n",
    "\n",
    "weights.head(20)\n",
    "\n",
    "weights.to_csv(\"/Users/marleendejonge/Library/CloudStorage/OneDrive-UvA/PhD/PhD planning/Papers/PaperI/ECC transcripts/ECC_climate_risk/data/clim_metrics/Z_clim1905.csv\", index=False)"
   ]
  },
  {
   "cell_type": "markdown",
   "metadata": {},
   "source": [
    "## Hedging climate change news (Engle et al. (2020))"
   ]
  },
  {
   "cell_type": "code",
   "execution_count": 6,
   "metadata": {},
   "outputs": [],
   "source": [
    "from engle.hedge_method import run_cross_sectional_factor_regression\n",
    "import pandas as pd\n",
    "\n",
    "root_code = \"/Users/marleendejonge/Library/CloudStorage/OneDrive-UvA/PhD/PhD planning/Papers/PaperI/ECC transcripts/ECC_climate_risk/code/\"\n",
    "root_data = \"/Users/marleendejonge/Library/CloudStorage/OneDrive-UvA/PhD/PhD planning/Papers/PaperI/ECC transcripts/ECC_climate_risk/data/\"\n",
    "\n",
    "engle_path = root_data + \"hedge_df_engle_full_1905.csv\"\n",
    "factor_path = root_data + \"clim_metrics/Z_clim1905.csv\"\n",
    "\n",
    "# # DUMMY DATA\n",
    "# engle_path = root_data + \"dummy/dummy_engle_unbal.csv\"\n",
    "# factor_path = root_data + \"dummy/dummy_clim_unbal.csv\"\n",
    "\n",
    "start_year = 2010\n",
    "end_year = 2018"
   ]
  },
  {
   "cell_type": "markdown",
   "metadata": {},
   "source": [
    "#### Merge US and EU df"
   ]
  },
  {
   "cell_type": "code",
   "execution_count": 7,
   "metadata": {},
   "outputs": [],
   "source": [
    "df1 = pd.read_csv(\"/Users/marleendejonge/Library/CloudStorage/OneDrive-UvA/PhD/PhD planning/Papers/PaperI/ECC transcripts/ECC_climate_risk/data/hedge_df_engle_EU_1905.csv\")\n",
    "df2 = pd.read_csv(\"/Users/marleendejonge/Library/CloudStorage/OneDrive-UvA/PhD/PhD planning/Papers/PaperI/ECC transcripts/ECC_climate_risk/data/hedge_df_engle_US_1905.csv\")\n",
    "\n",
    "df_full = pd.concat([df1,df2])\n",
    "\n",
    "df_full.to_csv(\"/Users/marleendejonge/Library/CloudStorage/OneDrive-UvA/PhD/PhD planning/Papers/PaperI/ECC transcripts/ECC_climate_risk/data/hedge_df_engle_full_1905.csv\", index=False)"
   ]
  },
  {
   "cell_type": "markdown",
   "metadata": {},
   "source": [
    "#### Engle"
   ]
  },
  {
   "cell_type": "code",
   "execution_count": 9,
   "metadata": {},
   "outputs": [],
   "source": [
    "factor_path = '/Users/marleendejonge/Library/CloudStorage/OneDrive-UvA/PhD/PhD planning/Papers/PaperI/ECC transcripts/ECC_climate_risk/data/clim_metrics/VAE_generated_portfolio_clim_weights.csv'"
   ]
  },
  {
   "cell_type": "code",
   "execution_count": 10,
   "metadata": {},
   "outputs": [],
   "source": [
    "df_engle = pd.read_csv(engle_path)\n",
    "df_clim = pd.read_csv(factor_path)"
   ]
  },
  {
   "cell_type": "code",
   "execution_count": 11,
   "metadata": {},
   "outputs": [
    {
     "data": {
      "text/plain": [
       "Index(['ISIN', 'ISSUER_TICKER', 'MONTH', 'TOT_RETURN_INDEX_GROSS_DVDS',\n",
       "       'PX_TO_BOOK_RATIO', 'month', 'year', 'Stock_Return', 'BOOK_TO_MARKET',\n",
       "       'STOXX_INDEX', 'Market_Return', 'UMC.ALL', 'WSJ.AR1', 'CHNEG.AR1',\n",
       "       'MKT_CAP', 'CLIM_RATIO', 'Z_HML', 'Z_MKT', 'Z_SIZE', 'Z_SUS',\n",
       "       'MKT_SHARE', 'SP_INDEX'],\n",
       "      dtype='object')"
      ]
     },
     "execution_count": 11,
     "metadata": {},
     "output_type": "execute_result"
    }
   ],
   "source": [
    "df_engle.columns"
   ]
  },
  {
   "cell_type": "code",
   "execution_count": 12,
   "metadata": {},
   "outputs": [
    {
     "data": {
      "image/png": "[encoded data removed]",
      "text/plain": [
       "<Figure size 800x500 with 1 Axes>"
      ]
     },
     "metadata": {},
     "output_type": "display_data"
    },
    {
     "name": "stdout",
     "output_type": "stream",
     "text": [
      "                            OLS Regression Results                            \n",
      "==============================================================================\n",
      "Dep. Variable:                      y   R-squared:                       0.011\n",
      "Model:                            OLS   Adj. R-squared:                 -0.036\n",
      "Method:                 Least Squares   F-statistic:                    0.2259\n",
      "Date:                Wed, 18 Jun 2025   Prob (F-statistic):              0.923\n",
      "Time:                        11:00:28   Log-Likelihood:                -17.047\n",
      "No. Observations:                  89   AIC:                             44.09\n",
      "Df Residuals:                      84   BIC:                             56.54\n",
      "Df Model:                           4                                         \n",
      "Covariance Type:            nonrobust                                         \n",
      "==============================================================================\n",
      "                 coef    std err          t      P>|t|      [0.025      0.975]\n",
      "------------------------------------------------------------------------------\n",
      "const          0.0916      0.095      0.966      0.337      -0.097       0.280\n",
      "Z_clim_r      -0.0003      0.018     -0.019      0.985      -0.037       0.036\n",
      "Z_size_r      -0.0014      0.003     -0.554      0.581      -0.007       0.004\n",
      "Z_hml_r        0.0006      0.001      0.558      0.579      -0.001       0.003\n",
      "Z_mkt_r       -0.0339      0.209     -0.163      0.871      -0.449       0.381\n",
      "==============================================================================\n",
      "Omnibus:                        6.749   Durbin-Watson:                   1.756\n",
      "Prob(Omnibus):                  0.034   Jarque-Bera (JB):                6.937\n",
      "Skew:                           0.680   Prob(JB):                       0.0312\n",
      "Kurtosis:                       2.859   Cond. No.                         248.\n",
      "==============================================================================\n",
      "\n",
      "Notes:\n",
      "[1] Standard Errors assume that the covariance matrix of the errors is correctly specified.\n"
     ]
    },
    {
     "data": {
      "text/plain": [
       "<statsmodels.regression.linear_model.RegressionResultsWrapper at 0x352e3f310>"
      ]
     },
     "execution_count": 12,
     "metadata": {},
     "output_type": "execute_result"
    }
   ],
   "source": [
    "run_cross_sectional_factor_regression(\n",
    "    df_engle=df_engle,\n",
    "    df_clim=df_clim,\n",
    "    clim_col='WEIGHT',\n",
    "    concern_col='UMC.ALL',\n",
    "    start_year=2010,\n",
    "    end_year=2019\n",
    ")"
   ]
  },
  {
   "cell_type": "code",
   "execution_count": 40,
   "metadata": {},
   "outputs": [
    {
     "ename": "ImportError",
     "evalue": "cannot import name 'run_cross_sectional_factor_regression_torch' from 'engle.dynamic_engle_torch' (/Users/marleendejonge/Library/CloudStorage/OneDrive-UvA/PhD/PhD planning/Papers/PaperI/ECC transcripts/ECC_climate_risk/code/engle/dynamic_engle_torch.py)",
     "output_type": "error",
     "traceback": [
      "\u001b[0;31m---------------------------------------------------------------------------\u001b[0m",
      "\u001b[0;31mImportError\u001b[0m                               Traceback (most recent call last)",
      "Cell \u001b[0;32mIn[40], line 1\u001b[0m\n\u001b[0;32m----> 1\u001b[0m \u001b[38;5;28;01mfrom\u001b[39;00m\u001b[38;5;250m \u001b[39m\u001b[38;5;21;01mengle\u001b[39;00m\u001b[38;5;21;01m.\u001b[39;00m\u001b[38;5;21;01mdynamic_engle_torch\u001b[39;00m\u001b[38;5;250m \u001b[39m\u001b[38;5;28;01mimport\u001b[39;00m run_cross_sectional_factor_regression_torch\n\u001b[1;32m      2\u001b[0m \u001b[38;5;28;01mfrom\u001b[39;00m\u001b[38;5;250m \u001b[39m\u001b[38;5;21;01mengle\u001b[39;00m\u001b[38;5;21;01m.\u001b[39;00m\u001b[38;5;21;01mdatadict_converter\u001b[39;00m\u001b[38;5;250m \u001b[39m\u001b[38;5;28;01mimport\u001b[39;00m df_to_torch_data_dict\n\u001b[1;32m      4\u001b[0m \u001b[38;5;28;01mimport\u001b[39;00m\u001b[38;5;250m \u001b[39m\u001b[38;5;21;01mpandas\u001b[39;00m\u001b[38;5;250m \u001b[39m\u001b[38;5;28;01mas\u001b[39;00m\u001b[38;5;250m \u001b[39m\u001b[38;5;21;01mpd\u001b[39;00m\n",
      "\u001b[0;31mImportError\u001b[0m: cannot import name 'run_cross_sectional_factor_regression_torch' from 'engle.dynamic_engle_torch' (/Users/marleendejonge/Library/CloudStorage/OneDrive-UvA/PhD/PhD planning/Papers/PaperI/ECC transcripts/ECC_climate_risk/code/engle/dynamic_engle_torch.py)"
     ]
    }
   ],
   "source": [
    "from engle.dynamic_engle_torch import run_cross_sectional_factor_regression_torch\n",
    "from engle.datadict_converter import df_to_torch_data_dict\n",
    "\n",
    "import pandas as pd\n",
    "\n",
    "root_code = \"/Users/marleendejonge/Library/CloudStorage/OneDrive-UvA/PhD/PhD planning/Papers/PaperI/ECC transcripts/ECC_climate_risk/code/\"\n",
    "root_data = \"/Users/marleendejonge/Library/CloudStorage/OneDrive-UvA/PhD/PhD planning/Papers/PaperI/ECC transcripts/ECC_climate_risk/data/\"\n",
    "\n",
    "engle_path = root_data + \"hedge_df_engle_full.csv\"\n",
    "factor_path = root_data + \"clim_metrics/Z_clim.csv\"\n",
    "\n",
    "df_engle = pd.read_csv(engle_path)\n",
    "\n",
    "data_dict = df_to_torch_data_dict(df_engle, \"UMC.ALL\")\n",
    "\n",
    "run_cross_sectional_factor_regression_torch(\n",
    "    data_dict=data_dict,\n",
    "    df_clim=df_clim,\n",
    "    clim_col='ratio_R',\n",
    "    concern_col='UMC.ALL',\n",
    "    start_year=2010,\n",
    "    end_year=2018\n",
    ")"
   ]
  },
  {
   "cell_type": "code",
   "execution_count": null,
   "metadata": {},
   "outputs": [],
   "source": []
  }
 ],
 "metadata": {
  "kernelspec": {
   "display_name": "ECC",
   "language": "python",
   "name": "python3"
  },
  "language_info": {
   "codemirror_mode": {
    "name": "ipython",
    "version": 3
   },
   "file_extension": ".py",
   "mimetype": "text/x-python",
   "name": "python",
   "nbconvert_exporter": "python",
   "pygments_lexer": "ipython3",
   "version": "3.11.5"
  }
 },
 "nbformat": 4,
 "nbformat_minor": 2
}
